{
 "cells": [
  {
   "cell_type": "markdown",
   "metadata": {},
   "source": [
    "1. Print out a data type of a variable?"
   ]
  },
  {
   "cell_type": "code",
   "execution_count": 2,
   "metadata": {},
   "outputs": [
    {
     "name": "stdout",
     "output_type": "stream",
     "text": [
      "<class 'str'>\n",
      "<class 'bool'>\n"
     ]
    }
   ],
   "source": [
    "st_var = \"Hello World\"\n",
    "print(type(st_var))\n",
    "\n",
    "b_var = False\n",
    "print(type(b_var))"
   ]
  },
  {
   "cell_type": "markdown",
   "metadata": {},
   "source": [
    "2. Round 4.5667 to the nearest hundreth using a build-in function, round()."
   ]
  },
  {
   "cell_type": "code",
   "execution_count": 3,
   "metadata": {},
   "outputs": [
    {
     "name": "stdout",
     "output_type": "stream",
     "text": [
      "4.57\n"
     ]
    }
   ],
   "source": [
    "num = 4.5667\n",
    "print(round(num, 2))"
   ]
  },
  {
   "cell_type": "markdown",
   "metadata": {},
   "source": [
    "3. Convert \"657\" to an integer data type"
   ]
  },
  {
   "cell_type": "code",
   "execution_count": 5,
   "metadata": {},
   "outputs": [
    {
     "data": {
      "text/plain": [
       "657"
      ]
     },
     "execution_count": 5,
     "metadata": {},
     "output_type": "execute_result"
    }
   ],
   "source": [
    "int(\"657\")"
   ]
  },
  {
   "cell_type": "markdown",
   "metadata": {},
   "source": [
    "4. Write a function to calculate the miles per gallon.\n",
    "Get a miles driven and gallons used from a user and call your function to calculate the miles per gallon. "
   ]
  },
  {
   "cell_type": "code",
   "execution_count": 9,
   "metadata": {},
   "outputs": [
    {
     "name": "stdout",
     "output_type": "stream",
     "text": [
      "Enter miles driven:\n",
      "150\n",
      "Enter gallons of gas used:\n",
      "7.5\n",
      "Miles Per Gallon: 20.0\n"
     ]
    }
   ],
   "source": [
    "def miles_per_gallon():\n",
    "    print(\"Enter miles driven:\")\n",
    "    miles = float(input())\n",
    "    print(\"Enter gallons of gas used:\")\n",
    "    gallons = float(input())\n",
    "    mpg = miles / gallons\n",
    "    print(f\"Miles Per Gallon: {mpg}\")\n",
    "    \n",
    "miles_per_gallon()"
   ]
  },
  {
   "cell_type": "markdown",
   "metadata": {},
   "source": [
    "5. Enhance your function from exercise 3. Additionally, get a gas price per gallon from a user and write a program to compute the total gas cost and cost per mile. \n",
    "\n",
    "The output should look something like this:\n",
    "\n",
    "    Enter miles driven:            150\n",
    "    Enter gallons of gas used:     15\n",
    "    Enter cost per gallon:          3\n",
    "\n",
    "    Miles Per Gallon:   10.0\n",
    "    Total Gas Cost:     45.0\n",
    "    Cost per Mile:      0.3\n"
   ]
  },
  {
   "cell_type": "code",
   "execution_count": 16,
   "metadata": {},
   "outputs": [
    {
     "name": "stdout",
     "output_type": "stream",
     "text": [
      "Enter miles driven:\t\t120\n",
      "Enter gallons of gas used:\t4.8\n",
      "Enter cost per gallon:\t\t3.1\n",
      "Miles Per Gallon:\t25.0\n",
      "Total Gas Cost:\t\t14.88\n",
      "Cost per Mile:\t\t0.12\n"
     ]
    }
   ],
   "source": [
    "def miles_per_gallon():\n",
    "    \n",
    "    # input all required data\n",
    "    print(\"Enter miles driven:\", end = '\\t\\t')\n",
    "    miles = float(input())\n",
    "    print(\"Enter gallons of gas used:\", end = '\\t')\n",
    "    gallons = float(input())\n",
    "    print(\"Enter cost per gallon:\", end = '\\t\\t')\n",
    "    cost_per_gallon = float(input())\n",
    "    \n",
    "    # make calculations\n",
    "    mpg = miles / gallons\n",
    "    gas_cost = round(gallons * cost_per_gallon, 2)\n",
    "    cost_per_mile = round(gas_cost / miles, 2)\n",
    "    \n",
    "    #print results\n",
    "    print(f\"Miles Per Gallon:\\t{mpg}\")\n",
    "    print(f\"Total Gas Cost:\\t\\t{gas_cost}\")\n",
    "    print(f\"Cost per Mile:\\t\\t{cost_per_mile}\")\n",
    "    \n",
    "miles_per_gallon()"
   ]
  },
  {
   "cell_type": "markdown",
   "metadata": {},
   "source": [
    "6. Write a function called multiply_two() that accepts two parameters. The function should print a message like '15 + 2 = 17'.  Randomly generate two numbers between 1 and 100, then call the function with the two random numbers."
   ]
  },
  {
   "cell_type": "code",
   "execution_count": 30,
   "metadata": {},
   "outputs": [
    {
     "name": "stdout",
     "output_type": "stream",
     "text": [
      "41 + 10 = 51\n"
     ]
    }
   ],
   "source": [
    "import random as rand\n",
    "\n",
    "def multiply_two(num1, num2):\n",
    "    total_num = num1 + num2\n",
    "    print (f\"{num1} + {num2} = {total_num}\")\n",
    "    \n",
    "number1 = rand.randint(1, 100)\n",
    "number2 = rand.randint(1, 100)\n",
    "multiply_two(number1, number2)\n",
    "    "
   ]
  },
  {
   "cell_type": "markdown",
   "metadata": {},
   "source": [
    "7. Write a function called make_shirt() that accepts a size and the text of a message. The function should print a sentence summarizing the size of the shirt and the message printed on it. The default shirt size is large and default message is 'I love Python!' Make a default size shirt with a message, a medium shirt with the default message, and a shirt of any size with a different message."
   ]
  },
  {
   "cell_type": "code",
   "execution_count": 36,
   "metadata": {},
   "outputs": [
    {
     "name": "stdout",
     "output_type": "stream",
     "text": [
      "I feel good in large size shirt\n",
      "I love Python! in medium size shirt\n",
      "I don't like rainy weather in any size shirt\n"
     ]
    }
   ],
   "source": [
    "def make_shirt(size = 'large', message = 'I love Python!'):\n",
    "    print(f\"{message} in {size} size shirt\")\n",
    "    \n",
    "make_shirt(message = \"I feel good\")\n",
    "make_shirt(size = 'medium')\n",
    "make_shirt(size = 'any', message = \"I don't like rainy weather\")\n"
   ]
  },
  {
   "cell_type": "markdown",
   "metadata": {},
   "source": [
    "8. Create a function for a multiplication table.  Get a number from a user and then call you function which produces a multiplication table for that number.\n",
    "The output should look something like this:\n",
    "\n",
    "        Enter a number: 3\n",
    "        3 X 1 = 3\n",
    "        3 X 2 = 6\n",
    "        3 X 3 = 9\n",
    "        3 X 4 = 12\n",
    "        3 X 5 = 15\n",
    "        3 X 6 = 18\n",
    "        3 X 7 = 21\n",
    "        3 X 8 = 24\n",
    "        3 X 9 = 27\n",
    "        "
   ]
  },
  {
   "cell_type": "code",
   "execution_count": 42,
   "metadata": {},
   "outputs": [
    {
     "name": "stdout",
     "output_type": "stream",
     "text": [
      "Enter a number: 7\n",
      "7 X 1 = 7\n",
      "7 X 2 = 14\n",
      "7 X 3 = 21\n",
      "7 X 4 = 28\n",
      "7 X 5 = 35\n",
      "7 X 6 = 42\n",
      "7 X 7 = 49\n",
      "7 X 8 = 56\n",
      "7 X 9 = 63\n"
     ]
    }
   ],
   "source": [
    "def multiplication_table(num):\n",
    "    print(f\"{num} X 1 = {num * 1}\")\n",
    "    print(f\"{num} X 2 = {num * 2}\")\n",
    "    print(f\"{num} X 3 = {num * 3}\")\n",
    "    print(f\"{num} X 4 = {num * 4}\")\n",
    "    print(f\"{num} X 5 = {num * 5}\")\n",
    "    print(f\"{num} X 6 = {num * 6}\")\n",
    "    print(f\"{num} X 7 = {num * 7}\")\n",
    "    print(f\"{num} X 8 = {num * 8}\")\n",
    "    print(f\"{num} X 9 = {num * 9}\")\n",
    "\n",
    "print(\"Enter a number:\", end = ' ')\n",
    "number = int(input())\n",
    "multiplication_table(number)"
   ]
  },
  {
   "cell_type": "markdown",
   "metadata": {},
   "source": [
    "9. Write a function that accepts a string and returns a string that is \n",
    "    - without any leading nor trailing blanks\n",
    "    - converts to all capital letters\n",
    "    - and replaces all blanks with a period(.).  \n",
    "\n",
    "Write a program to accept a string from a user then call your function and display the original string and changed string.  \n",
    "\n",
    "The output should look something like this:\n",
    "\n",
    "        Enter a text: may your dreams come true\n",
    "        \n",
    "        Original Text: may your dreams come true\n",
    "        New Text: MAY.YOUR.DREAMS.COME.TRUE"
   ]
  },
  {
   "cell_type": "code",
   "execution_count": 10,
   "metadata": {},
   "outputs": [
    {
     "name": "stdout",
     "output_type": "stream",
     "text": [
      "Enter a text:    what you see is what you get    \n",
      "\n",
      "Original Text:    what you see is what you get    \n",
      "New Text: WHAT.YOU.SEE.IS.WHAT.YOU.GET\n"
     ]
    }
   ],
   "source": [
    "def str_custom_convert(strline):\n",
    "    return strline.strip().upper().replace(' ', '.')\n",
    "    \n",
    "print('Enter a text: ', end = '')\n",
    "org_text = input()\n",
    "new_text = str_custom_convert(org_text)\n",
    "print('\\nOriginal Text: ' + org_text)\n",
    "print('New Text: ' + new_text)"
   ]
  },
  {
   "cell_type": "markdown",
   "metadata": {},
   "source": [
    "10. Write a function that returns a randomly selected character from a passed string. Write a program to accept a string from a user then call your function and display the original string and selected character.\n",
    "\n",
    "The output should look something like this:\n",
    "\n",
    "        Enter a text: functions\n",
    "        Original Text:\tfunctions\n",
    "        Random character:\ts"
   ]
  },
  {
   "cell_type": "code",
   "execution_count": 21,
   "metadata": {},
   "outputs": [
    {
     "name": "stdout",
     "output_type": "stream",
     "text": [
      "Enter a text: Computer\n",
      "Original Text:  Computer\n",
      "Random Character:  u\n"
     ]
    }
   ],
   "source": [
    "import random as rand\n",
    "\n",
    "def get_character(str):\n",
    "    strlen = len(str)\n",
    "    char_position = int(rand.randint(1, strlen))\n",
    "    return str[char_position - 1]\n",
    "\n",
    "print('Enter a text: ', end = '')\n",
    "org_text = input()\n",
    "character = get_character(org_text)\n",
    "print(\"Original Text: \", org_text)\n",
    "print(\"Random Character: \", character)"
   ]
  },
  {
   "cell_type": "code",
   "execution_count": null,
   "metadata": {},
   "outputs": [],
   "source": []
  }
 ],
 "metadata": {
  "kernelspec": {
   "display_name": "Python 3",
   "language": "python",
   "name": "python3"
  },
  "language_info": {
   "codemirror_mode": {
    "name": "ipython",
    "version": 3
   },
   "file_extension": ".py",
   "mimetype": "text/x-python",
   "name": "python",
   "nbconvert_exporter": "python",
   "pygments_lexer": "ipython3",
   "version": "3.8.8"
  }
 },
 "nbformat": 4,
 "nbformat_minor": 4
}
